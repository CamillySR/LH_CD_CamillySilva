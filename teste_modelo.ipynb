{
 "cells": [
  {
   "cell_type": "markdown",
   "id": "54f71641-e877-4b5a-8118-0f0c88bc2395",
   "metadata": {},
   "source": [
    "Faremos o teste a seguir com o filme The Shawshank Redemption para saber o quão perto o modelo preditivo chega."
   ]
  },
  {
   "cell_type": "code",
   "execution_count": 61,
   "id": "fe5c35dd-8259-4483-a7c4-2eceb284a7ba",
   "metadata": {
    "editable": true,
    "slideshow": {
     "slide_type": ""
    },
    "tags": []
   },
   "outputs": [],
   "source": [
    "import pandas as pd # Importa bibliotecas novamente por ser outro notebook\n",
    "import pickle"
   ]
  },
  {
   "cell_type": "code",
   "execution_count": 62,
   "id": "a272d916-ba65-460a-a244-34652d6d741f",
   "metadata": {
    "editable": true,
    "slideshow": {
     "slide_type": ""
    },
    "tags": []
   },
   "outputs": [
    {
     "data": {
      "text/html": [
       "<div>\n",
       "<style scoped>\n",
       "    .dataframe tbody tr th:only-of-type {\n",
       "        vertical-align: middle;\n",
       "    }\n",
       "\n",
       "    .dataframe tbody tr th {\n",
       "        vertical-align: top;\n",
       "    }\n",
       "\n",
       "    .dataframe thead th {\n",
       "        text-align: right;\n",
       "    }\n",
       "</style>\n",
       "<table border=\"1\" class=\"dataframe\">\n",
       "  <thead>\n",
       "    <tr style=\"text-align: right;\">\n",
       "      <th></th>\n",
       "      <th>Released_Year</th>\n",
       "      <th>Runtime</th>\n",
       "      <th>Meta_score</th>\n",
       "      <th>No_of_Votes</th>\n",
       "      <th>Gross</th>\n",
       "    </tr>\n",
       "  </thead>\n",
       "  <tbody>\n",
       "    <tr>\n",
       "      <th>0</th>\n",
       "      <td>1994</td>\n",
       "      <td>142</td>\n",
       "      <td>80.0</td>\n",
       "      <td>2343110</td>\n",
       "      <td>283414690</td>\n",
       "    </tr>\n",
       "  </tbody>\n",
       "</table>\n",
       "</div>"
      ],
      "text/plain": [
       "   Released_Year  Runtime  Meta_score  No_of_Votes      Gross\n",
       "0           1994      142        80.0      2343110  283414690"
      ]
     },
     "execution_count": 62,
     "metadata": {},
     "output_type": "execute_result"
    }
   ],
   "source": [
    "shawshank_df = pd.read_csv('shawshank.csv') # Carregaos dados do filme\n",
    "shawshank_df"
   ]
  },
  {
   "cell_type": "code",
   "execution_count": 63,
   "id": "1f982543-cc83-4232-a45e-0e711f810c2c",
   "metadata": {},
   "outputs": [],
   "source": [
    "with open(\"modelo.pkl\", \"rb\") as arquivo:  # Abre o arquivo .pkl do modelo\n",
    "    modelo = pickle.load(arquivo)"
   ]
  },
  {
   "cell_type": "code",
   "execution_count": 64,
   "id": "891b3e6c-fbac-488f-abab-99cc6e8cf69b",
   "metadata": {},
   "outputs": [
    {
     "name": "stdout",
     "output_type": "stream",
     "text": [
      "Nota IMDB prevista para The Shawshank Redemption: 9.1\n"
     ]
    }
   ],
   "source": [
    "shawshank_previsao = modelo.predict(shawshank_df) # Faz a previsão\n",
    "print(\"Nota IMDB prevista para The Shawshank Redemption:\", round(shawshank_previsao[0], 1)) # Arredonda para 1 casa decimal"
   ]
  },
  {
   "cell_type": "markdown",
   "id": "16f67565-02b0-4f04-926c-319f68012320",
   "metadata": {},
   "source": [
    "Link com a nota real do filme:\n",
    "https://www.imdb.com/pt/title/tt0111161/?ref_=ext_shr_lnk"
   ]
  }
 ],
 "metadata": {
  "kernelspec": {
   "display_name": "Python 3 (ipykernel)",
   "language": "python",
   "name": "python3"
  },
  "language_info": {
   "codemirror_mode": {
    "name": "ipython",
    "version": 3
   },
   "file_extension": ".py",
   "mimetype": "text/x-python",
   "name": "python",
   "nbconvert_exporter": "python",
   "pygments_lexer": "ipython3",
   "version": "3.13.2"
  }
 },
 "nbformat": 4,
 "nbformat_minor": 5
}
